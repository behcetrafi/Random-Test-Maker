{
 "cells": [
  {
   "attachments": {},
   "cell_type": "markdown",
   "id": "b1e65c38",
   "metadata": {},
   "source": [
    "## Random Test Maker"
   ]
  },
  {
   "cell_type": "markdown",
   "id": "624d21ea",
   "metadata": {},
   "source": [
    "### I prepared a test with 5 questions. And every time the program runs, the locations of all questions and their answers change randomly. In this way, a random exam is created for each person who solves the test and cheating is prevented."
   ]
  },
  {
   "cell_type": "markdown",
   "id": "88fc6de2",
   "metadata": {},
   "source": [
    "**(I take these questions from Global AI Hub assesment tests.)**"
   ]
  },
  {
   "cell_type": "markdown",
   "id": "a6839f30",
   "metadata": {},
   "source": [
    "## Questions"
   ]
  },
  {
   "cell_type": "code",
   "execution_count": 2,
   "id": "2fbcdcf8",
   "metadata": {},
   "outputs": [],
   "source": [
    "question = [\"What is a function inside a class called in Python?\",\n",
    "            \"What does the dict() function do in Python?\",\n",
    "            \"What does the strip() method do in Python?\",\n",
    "            \"What does the sum() method do in Python?\",\n",
    "            \"What does the np.concatenate() method do in Python?\"]"
   ]
  },
  {
   "cell_type": "markdown",
   "id": "90ab2637",
   "metadata": {},
   "source": [
    "## Answers"
   ]
  },
  {
   "cell_type": "code",
   "execution_count": 3,
   "id": "1a9f8fda",
   "metadata": {},
   "outputs": [],
   "source": [
    "q1_ans = [\"class function\",\n",
    "          \"instance\",\n",
    "          \"operation\",\n",
    "          \"method\"]\n",
    "\n",
    "#************************\n",
    "\n",
    "q2_ans = [\"Creates a collection with given key-value pairs\",\n",
    "          \"Creates a list\",\n",
    "          \"Creates a tuple\",\n",
    "          \"Enumerates the values of a list\"]\n",
    "\n",
    "#************************\n",
    "\n",
    "q3_ans = [\"Removes specific characters or whitespaces from a string’s beginning and end\",\n",
    "          \"Creates a list of shorter strings from a longer string\",\n",
    "          \"Deletes numbers that are inside a string\",\n",
    "          \"Removes punctuations from a string\"]\n",
    "\n",
    "#************************\n",
    "\n",
    "q4_ans = [\"Sums the given arrays\",\n",
    "          \"Sums the values that the given arrays includes\",\n",
    "          \"Summarizes information about the given array\",\n",
    "          \"Gives information about statistics of the given array\"]\n",
    "\n",
    "#************************\n",
    "\n",
    "q5_ans = [\"Splits a big array into smaller arrays\",\n",
    "          \"Inserts values into a given array\",\n",
    "          \"Creates an array with 1s and 0s\",\n",
    "          \"Combines two or more arrays along a specified axis\"]"
   ]
  },
  {
   "cell_type": "markdown",
   "id": "0224be07",
   "metadata": {},
   "source": [
    "## Program"
   ]
  },
  {
   "cell_type": "code",
   "execution_count": 4,
   "id": "249e5e33",
   "metadata": {},
   "outputs": [],
   "source": [
    "import random"
   ]
  },
  {
   "cell_type": "code",
   "execution_count": 5,
   "id": "8c38aef3",
   "metadata": {},
   "outputs": [],
   "source": [
    "def new_test():\n",
    "    random.shuffle(q1_ans)\n",
    "    random.shuffle(q2_ans)\n",
    "    random.shuffle(q3_ans)\n",
    "    random.shuffle(q4_ans)\n",
    "    random.shuffle(q5_ans)\n",
    "        \n",
    "    selected_question = random.sample(question,5)\n",
    "    \n",
    "    for i in range(len(question)):\n",
    "        if selected_question[i] == question[0]:\n",
    "            print(f\"{i + 1}){selected_question[i]} \\n\\tA){q1_ans[0]}  \\n\\tB){q1_ans[1]}  \\n\\tC){q1_ans[2]}  \\n\\tD){q1_ans[3]}\\n\")\n",
    "            \n",
    "        elif selected_question[i] == question[1]:\n",
    "            print(f\"{i + 1}){selected_question[i]} \\n\\tA){q2_ans[0]}  \\n\\tB){q2_ans[1]}  \\n\\tC){q2_ans[2]}  \\n\\tD){q2_ans[3]}\\n\")\n",
    "            \n",
    "        elif selected_question[i] == question[2]:\n",
    "            print(f\"{i + 1}){selected_question[i]} \\n\\tA){q3_ans[0]}  \\n\\tB){q3_ans[1]}  \\n\\tC){q3_ans[2]}  \\n\\tD){q3_ans[3]}\\n\")\n",
    "            \n",
    "        elif selected_question[i] == question[3]:\n",
    "            print(f\"{i + 1}){selected_question[i]} \\n\\tA){q4_ans[0]}  \\n\\tB){q4_ans[1]}  \\n\\tC){q4_ans[2]}  \\n\\tD){q4_ans[3]}\\n\")\n",
    "            \n",
    "        else:\n",
    "            print(f\"{i + 1}){selected_question[i]} \\n\\tA){q5_ans[0]}  \\n\\tB){q5_ans[1]}  \\n\\tC){q5_ans[2]}  \\n\\tD){q5_ans[3]}\\n\")\n",
    "\n",
    "           "
   ]
  },
  {
   "cell_type": "code",
   "execution_count": 21,
   "id": "7cb7453b",
   "metadata": {},
   "outputs": [
    {
     "name": "stdout",
     "output_type": "stream",
     "text": [
      "1)What does the sum() method do in Python? \n",
      "\tA)Summarizes information about the given array  \n",
      "\tB)Sums the values that the given arrays includes  \n",
      "\tC)Sums the given arrays  \n",
      "\tD)Gives information about statistics of the given array\n",
      "\n",
      "2)What is a function inside a class called in Python? \n",
      "\tA)instance  \n",
      "\tB)method  \n",
      "\tC)class function  \n",
      "\tD)operation\n",
      "\n",
      "3)What does the dict() function do in Python? \n",
      "\tA)Creates a tuple  \n",
      "\tB)Creates a collection with given key-value pairs  \n",
      "\tC)Enumerates the values of a list  \n",
      "\tD)Creates a list\n",
      "\n",
      "4)What does the np.concatenate() method do in Python? \n",
      "\tA)Creates an array with 1s and 0s  \n",
      "\tB)Inserts values into a given array  \n",
      "\tC)Splits a big array into smaller arrays  \n",
      "\tD)Combines two or more arrays along a specified axis\n",
      "\n",
      "5)What does the strip() method do in Python? \n",
      "\tA)Removes specific characters or whitespaces from a string’s beginning and end  \n",
      "\tB)Removes punctuations from a string  \n",
      "\tC)Deletes numbers that are inside a string  \n",
      "\tD)Creates a list of shorter strings from a longer string\n",
      "\n"
     ]
    }
   ],
   "source": [
    "new_test()"
   ]
  },
  {
   "cell_type": "code",
   "execution_count": 16,
   "id": "e7bac551",
   "metadata": {},
   "outputs": [
    {
     "name": "stdout",
     "output_type": "stream",
     "text": [
      "1)What is a function inside a class called in Python? \n",
      "\tA)method  \n",
      "\tB)instance  \n",
      "\tC)operation  \n",
      "\tD)class function\n",
      "\n",
      "2)What does the np.concatenate() method do in Python? \n",
      "\tA)Splits a big array into smaller arrays  \n",
      "\tB)Combines two or more arrays along a specified axis  \n",
      "\tC)Creates an array with 1s and 0s  \n",
      "\tD)Inserts values into a given array\n",
      "\n",
      "3)What does the strip() method do in Python? \n",
      "\tA)Creates a list of shorter strings from a longer string  \n",
      "\tB)Deletes numbers that are inside a string  \n",
      "\tC)Removes punctuations from a string  \n",
      "\tD)Removes specific characters or whitespaces from a string’s beginning and end\n",
      "\n",
      "4)What does the sum() method do in Python? \n",
      "\tA)Sums the given arrays  \n",
      "\tB)Gives information about statistics of the given array  \n",
      "\tC)Sums the values that the given arrays includes  \n",
      "\tD)Summarizes information about the given array\n",
      "\n",
      "5)What does the dict() function do in Python? \n",
      "\tA)Creates a tuple  \n",
      "\tB)Creates a collection with given key-value pairs  \n",
      "\tC)Enumerates the values of a list  \n",
      "\tD)Creates a list\n",
      "\n"
     ]
    }
   ],
   "source": [
    "new_test()"
   ]
  },
  {
   "cell_type": "code",
   "execution_count": 19,
   "id": "9c15ab75",
   "metadata": {},
   "outputs": [
    {
     "name": "stdout",
     "output_type": "stream",
     "text": [
      "1)What does the np.concatenate() method do in Python? \n",
      "\tA)Creates an array with 1s and 0s  \n",
      "\tB)Inserts values into a given array  \n",
      "\tC)Combines two or more arrays along a specified axis  \n",
      "\tD)Splits a big array into smaller arrays\n",
      "\n",
      "2)What does the sum() method do in Python? \n",
      "\tA)Summarizes information about the given array  \n",
      "\tB)Sums the given arrays  \n",
      "\tC)Gives information about statistics of the given array  \n",
      "\tD)Sums the values that the given arrays includes\n",
      "\n",
      "3)What is a function inside a class called in Python? \n",
      "\tA)operation  \n",
      "\tB)instance  \n",
      "\tC)class function  \n",
      "\tD)method\n",
      "\n",
      "4)What does the strip() method do in Python? \n",
      "\tA)Removes punctuations from a string  \n",
      "\tB)Deletes numbers that are inside a string  \n",
      "\tC)Removes specific characters or whitespaces from a string’s beginning and end  \n",
      "\tD)Creates a list of shorter strings from a longer string\n",
      "\n",
      "5)What does the dict() function do in Python? \n",
      "\tA)Creates a collection with given key-value pairs  \n",
      "\tB)Enumerates the values of a list  \n",
      "\tC)Creates a list  \n",
      "\tD)Creates a tuple\n",
      "\n"
     ]
    }
   ],
   "source": [
    "new_test()"
   ]
  }
 ],
 "metadata": {
  "kernelspec": {
   "display_name": "Python 3 (ipykernel)",
   "language": "python",
   "name": "python3"
  },
  "language_info": {
   "codemirror_mode": {
    "name": "ipython",
    "version": 3
   },
   "file_extension": ".py",
   "mimetype": "text/x-python",
   "name": "python",
   "nbconvert_exporter": "python",
   "pygments_lexer": "ipython3",
   "version": "3.9.13"
  }
 },
 "nbformat": 4,
 "nbformat_minor": 5
}
